{
 "cells": [
  {
   "cell_type": "code",
   "execution_count": 20,
   "metadata": {},
   "outputs": [],
   "source": [
    "import sys,os\n",
    "sys.path.append('../../')\n",
    "from paths import *\n",
    "import numpy as np\n",
    "from time import time \n",
    "import matplotlib.pyplot as plt\n",
    "from dadapy._utils.stochastic_minimization_hamming import *\n",
    "from dadapy.hamming import Hamming\n",
    "\n",
    "start = time()\n",
    "\n",
    "eps = 1E-7\n",
    "L_list = np.arange(30,30+1,10,dtype=int)\n",
    "M_flag = 1\n",
    "N_list = L_list**2\n",
    "geometry = 'Ising-square'\n",
    "datafolder = f'/scratch/sacevedo/{geometry}/canonical/'"
   ]
  },
  {
   "cell_type": "code",
   "execution_count": 21,
   "metadata": {},
   "outputs": [
    {
     "name": "stdout",
     "output_type": "stream",
     "text": [
      "L=30\n",
      "T=1.80\n",
      "T=1.90\n",
      "T=2.00\n",
      "T=2.10\n",
      "T=2.20\n",
      "T=2.21\n",
      "T=2.22\n",
      "T=2.23\n",
      "T=2.24\n",
      "T=2.25\n",
      "T=2.26\n",
      "T=2.27\n",
      "T=2.28\n",
      "T=2.29\n",
      "T=2.30\n",
      "T=2.31\n",
      "T=2.32\n",
      "T=2.33\n",
      "T=2.34\n",
      "T=2.35\n",
      "T=2.36\n",
      "T=2.37\n",
      "T=2.38\n",
      "T=2.39\n",
      "T=2.40\n",
      "T=2.50\n",
      "T=2.60\n",
      "T=2.70\n",
      "T=2.80\n",
      "T=2.90\n",
      "T=3.00\n",
      "T=3.10\n",
      "T=3.20\n",
      "T=3.30\n",
      "T=3.40\n",
      "T=3.50\n",
      "T=3.60\n",
      "T=3.70\n",
      "T=3.80\n",
      "T=3.90\n",
      "T=4.00\n"
     ]
    }
   ],
   "source": [
    "### COMPUTING\n",
    "T_list = np.arange(1.8,2.2+eps,.1)\n",
    "T_list = np.concatenate((T_list,\n",
    "                         np.arange(2.21,2.39+eps,.01))\n",
    "                         )\n",
    "T_list = np.concatenate((T_list,\n",
    "                         np.arange(2.4,4+eps,.1)\n",
    "                         )\n",
    "                         )\n",
    "# T_list = [1.9]\n",
    "\n",
    "\n",
    "for L_id,L in enumerate(L_list):\n",
    "  print(f'{L=}')\n",
    "  for T_id,T in enumerate(T_list):\n",
    "    print(f'{T=:.2f}')\n",
    "    if T != np.inf:\n",
    "      datafile = datafolder + f'L{L}/T{T:.2f}.txt'\n",
    "      X = np.loadtxt(f'{datafile}').astype(int)\n",
    "    else:\n",
    "      pass\n",
    "    histfolder = makefolder(base=f'results/hists/',\n",
    "                              create_folder=True,\n",
    "                              L=L,\n",
    "                              T=float(T),\n",
    "                              M_flag=M_flag,\n",
    "                              )\n",
    "    if M_flag:\n",
    "      M0 = np.sum(X,axis=1)\n",
    "      indices = np.where(M0<0)\n",
    "      X[indices] = - X[indices]\n",
    "\n",
    "    H = Hamming(coordinates=X)\n",
    "    H.compute_distances()\n",
    "    H.D_histogram(compute_flag=1,\n",
    "                  save=1,\n",
    "                  resultsfolder=histfolder)\n",
    "\n"
   ]
  },
  {
   "cell_type": "code",
   "execution_count": 3,
   "metadata": {},
   "outputs": [],
   "source": [
    "# D = H.distances\n",
    "# D = D.flatten()\n",
    "# D = D[np.where(D!=0)]\n",
    "# D.sort()\n",
    "# c = np.arange(1,len(D.flatten())+1)\n",
    "# p,cov = np.polyfit(np.log(D[c_init:c_end]),np.log(c[c_init:c_end]),deg=1,cov=True)\n",
    "# ax.plot(np.log(D),np.log(c))\n",
    "# ax.plot(np.log(D[c_init:c_end]),np.log(D[c_init:c_end])*p[0] + p[1])"
   ]
  },
  {
   "cell_type": "code",
   "execution_count": 16,
   "metadata": {},
   "outputs": [
    {
     "name": "stdout",
     "output_type": "stream",
     "text": [
      "p=array([ 10.73, -40.99])\n"
     ]
    }
   ],
   "source": [
    "\n"
   ]
  },
  {
   "cell_type": "code",
   "execution_count": null,
   "metadata": {},
   "outputs": [],
   "source": []
  },
  {
   "cell_type": "code",
   "execution_count": 17,
   "metadata": {},
   "outputs": [
    {
     "data": {
      "image/png": "[encoded data removed]",
      "text/plain": [
       "<Figure size 640x480 with 1 Axes>"
      ]
     },
     "metadata": {},
     "output_type": "display_data"
    }
   ],
   "source": []
  },
  {
   "cell_type": "code",
   "execution_count": 51,
   "metadata": {},
   "outputs": [],
   "source": []
  }
 ],
 "metadata": {
  "kernelspec": {
   "display_name": "my_env",
   "language": "python",
   "name": "python3"
  },
  "language_info": {
   "codemirror_mode": {
    "name": "ipython",
    "version": 3
   },
   "file_extension": ".py",
   "mimetype": "text/x-python",
   "name": "python",
   "nbconvert_exporter": "python",
   "pygments_lexer": "ipython3",
   "version": "3.8.0"
  }
 },
 "nbformat": 4,
 "nbformat_minor": 2
}
