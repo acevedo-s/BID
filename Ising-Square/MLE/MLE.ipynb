{
 "cells": [
  {
   "cell_type": "code",
   "execution_count": null,
   "metadata": {},
   "outputs": [
    {
     "name": "stdout",
     "output_type": "stream",
     "text": [
      "L=30\n",
      "T=1.80\n",
      "M_flag=1\n",
      "49.18015473141988\n",
      "45.7739019974243\n",
      "51.6106695279618\n",
      "58.36800961290377\n",
      "70.53644547869358\n",
      "63.95368231355604\n",
      "60.51874008418136\n",
      "67.20778344774479\n",
      "75.44633126799272\n",
      "85.01897511730795\n",
      "94.30610546849275\n",
      "101.66901422745013\n",
      "107.58280015116699\n"
     ]
    }
   ],
   "source": [
    "import sys,os\n",
    "sys.path.append('../../')\n",
    "from paths import *\n",
    "import numpy as np\n",
    "from time import time \n",
    "from skdim.id import MLE\n",
    "\n",
    "\n",
    "start = time()\n",
    "\n",
    "L = 30 # int(sys.argv[1])\n",
    "print(f'{L=}')\n",
    "T = 1.8 # float(sys.argv[2])\n",
    "print(f'{T=:.2f}')\n",
    "M_flag = 1 # int(sys.argv[3])\n",
    "print(f'{M_flag=}')\n",
    "\n",
    "def get_scratch():\n",
    "  wd = !pwd\n",
    "  text = wd[0]\n",
    "  keyword = \"user=sacevedo\"\n",
    "  index = text.find(keyword)\n",
    "  scratch = text[:index + len(keyword)] + '/scratch/sacevedo/'\n",
    "  return scratch\n",
    "\n",
    "N = L**2\n",
    "geometry = 'Ising-square'\n",
    "scratch = get_scratch()\n",
    "datafolder = f'/{scratch}/{geometry}/canonical/'\n",
    "\n",
    "\n",
    "T_list = np.arange(1.8,2+1E-7,.1)\n",
    "intrinsic_dim = np.zeros(shape=len(T_list))\n",
    "\n",
    "for T_id,T in enumerate(T_list):\n",
    "  datafile = datafolder + f'L{L}/T{T:.2f}.txt'\n",
    "  X = np.loadtxt(f'{datafile}').astype(int)\n",
    "\n",
    "  if M_flag:\n",
    "    M0 = np.sum(X,axis=1)\n",
    "    indices = np.where(M0<0)\n",
    "    X[indices] = - X[indices]\n",
    "  \n",
    "  mle = MLE()\n",
    "  intrinsic_dim[T_id] = mle.fit(X).dimension_\n",
    "  print(f'{T=:.2f}, d={intrinsic_dim[T_id]}')"
   ]
  },
  {
   "cell_type": "code",
   "execution_count": null,
   "metadata": {},
   "outputs": [],
   "source": [
    "resultsfolder = makefolder(base=f'results/',\n",
    "                          create_folder=True,\n",
    "                          precision=2,\n",
    "                          L=L,\n",
    "                          M_flag=M_flag,\n",
    "                          )\n",
    "np.savetxt(f'{resultsfolder}d.txt',X=np.array([T_list,intrinsic_dim]).T)"
   ]
  },
  {
   "cell_type": "code",
   "execution_count": null,
   "metadata": {},
   "outputs": [],
   "source": [
    "### L scaling"
   ]
  },
  {
   "cell_type": "code",
   "execution_count": 11,
   "metadata": {},
   "outputs": [
    {
     "name": "stdout",
     "output_type": "stream",
     "text": [
      "L=30, d=45.7739019974243\n",
      "L=40, d=56.93990268227103\n",
      "L=50, d=90.27281079586835\n",
      "L=60, d=82.33187570068655\n",
      "L=70, d=104.71330194329062\n",
      "L=80, d=122.74779275742382\n",
      "L=90, d=122.26558497978836\n",
      "L=100, d=158.53059002006043\n"
     ]
    }
   ],
   "source": [
    "L_list = np.arange(30,100+1,10,dtype=int)\n",
    "intrinsic_dim = np.zeros(shape=len(L_list))\n",
    "T = 1.9\n",
    "for L_id,L in enumerate(L_list):\n",
    "  datafile = datafolder + f'L{L}/T{T:.2f}.txt'\n",
    "  X = np.loadtxt(f'{datafile}').astype(int)\n",
    "\n",
    "  if M_flag:\n",
    "    M0 = np.sum(X,axis=1)\n",
    "    indices = np.where(M0<0)\n",
    "    X[indices] = - X[indices]\n",
    "  \n",
    "  mle = MLE()\n",
    "  intrinsic_dim[L_id] = mle.fit(X).dimension_\n",
    "  print(f'{L=}, d={intrinsic_dim[L_id]}')"
   ]
  },
  {
   "cell_type": "code",
   "execution_count": 12,
   "metadata": {},
   "outputs": [],
   "source": [
    "resultsfolder = makefolder(base=f'results/',\n",
    "                          create_folder=True,\n",
    "                          precision=2,\n",
    "                          T=T,\n",
    "                          M_flag=M_flag,\n",
    "                          )\n",
    "np.savetxt(f'{resultsfolder}d.txt',X=np.array([L_list,intrinsic_dim]).T)"
   ]
  }
 ],
 "metadata": {
  "kernelspec": {
   "display_name": "venv",
   "language": "python",
   "name": "python3"
  },
  "language_info": {
   "codemirror_mode": {
    "name": "ipython",
    "version": 3
   },
   "file_extension": ".py",
   "mimetype": "text/x-python",
   "name": "python",
   "nbconvert_exporter": "python",
   "pygments_lexer": "ipython3",
   "version": "3.12.3"
  }
 },
 "nbformat": 4,
 "nbformat_minor": 2
}
