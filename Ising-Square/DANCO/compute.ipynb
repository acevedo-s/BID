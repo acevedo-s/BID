{
 "cells": [
  {
   "cell_type": "code",
   "execution_count": 2,
   "metadata": {},
   "outputs": [],
   "source": [
    "import sys,os\n",
    "sys.path.append('../../')\n",
    "from paths import *\n",
    "import numpy as np\n",
    "from time import time \n",
    "from skdim.id import DANCo"
   ]
  },
  {
   "cell_type": "code",
   "execution_count": 3,
   "metadata": {},
   "outputs": [
    {
     "name": "stdout",
     "output_type": "stream",
     "text": [
      "d=1593.9586397897679\n"
     ]
    }
   ],
   "source": [
    "L = 40\n",
    "T = 1.9\n",
    "M_flag = 1\n",
    "Ns = 500\n",
    "\n",
    "N = L**2\n",
    "geometry = 'Ising-square'\n",
    "datafolder = f'/scratch/sacevedo/{geometry}/canonical/'\n",
    "datafile = datafolder + f'L{L}/T{T:.2f}.txt'\n",
    "X = np.loadtxt(f'{datafile}').astype(int)[:Ns]\n",
    "\n",
    "if M_flag:\n",
    "  M0 = np.sum(X,axis=1)\n",
    "  indices = np.where(M0<0)\n",
    "  X[indices] = - X[indices]\n",
    "\n",
    "danco = DANCo()\n",
    "danco.fit(X)\n",
    "d = danco.dimension_\n",
    "print(f'{d=}')"
   ]
  },
  {
   "cell_type": "code",
   "execution_count": null,
   "metadata": {},
   "outputs": [],
   "source": [
    "danco.dimension_err_"
   ]
  },
  {
   "cell_type": "code",
   "execution_count": null,
   "metadata": {},
   "outputs": [],
   "source": [
    "d / N"
   ]
  },
  {
   "cell_type": "code",
   "execution_count": null,
   "metadata": {},
   "outputs": [],
   "source": [
    "\n",
    "\n",
    "\n",
    "\n",
    "\n",
    "resultsfolder = makefolder(base=f'results/FCI/',\n",
    "                           create_folder=True,\n",
    "                           precision=2,\n",
    "                           global_flag=global_flag,\n",
    "                           L=L,\n",
    "                           T=float(T),\n",
    "                           M_flag=M_flag,\n",
    "                           )\n",
    "\n",
    "N = L**2\n",
    "geometry = 'Ising-square'\n",
    "datafolder = f'/scratch/sacevedo/{geometry}/canonical/'\n",
    "datafile = datafolder + f'L{L}/T{T:.2f}.txt'\n",
    "X = np.loadtxt(f'{datafile}').astype(int)\n",
    "\n",
    "if M_flag:\n",
    "  M0 = np.sum(X,axis=1)\n",
    "  indices = np.where(M0<0)\n",
    "  X[indices] = - X[indices]\n",
    "\n",
    "if global_flag == 1:\n",
    "  X = pyFCI.center_and_normalize(X)\n",
    "  fci = pyFCI.FCI(X)\n",
    "  d,x0,err = pyFCI.fit_FCI(fci)\n",
    "  if np.isclose(T,2.) or np.isclose(T,3.) or np.isclose(T,1.8) or np.isclose(T,2.3):\n",
    "    np.savetxt(resultsfolder + 'fci.txt',X=fci)\n",
    "  np.savetxt(resultsfolder + 'FCI_fit.txt',X=[d,x0,err])\n",
    "else:\n",
    "  ks = [10]\n",
    "  for center in range(10):\n",
    "    r = pyFCI.local_FCI(X,center,ks) # normalizes inside\n",
    "    d,x0,err = r[0,2:]\n",
    "    np.savetxt(resultsfolder + f'FCI_fit_center{center}_ks{ks}.txt',X=[d,x0,err])\n",
    "\n",
    "print(f'{d=}')\n",
    "print(f'{x0=}')\n",
    "print(f'{err=}')\n"
   ]
  },
  {
   "cell_type": "code",
   "execution_count": null,
   "metadata": {},
   "outputs": [],
   "source": [
    "import numpy as np\n",
    "from skdim.id import DANCo\n",
    "\n",
    "# Example dataset: 1000 samples with 10 features\n",
    "X = np.random.rand(4000, 50)\n",
    "\n",
    "# Initialize the DANCo estimator\n",
    "danco = DANCo()\n",
    "\n",
    "# Fit the model to the data and estimate the intrinsic dimension\n",
    "danco.fit(X)\n",
    "\n",
    "# Retrieve the estimated intrinsic dimension\n",
    "intrinsic_dimension = danco.dimension_\n",
    "print(f\"Estimated intrinsic dimension: {intrinsic_dimension}\")\n"
   ]
  }
 ],
 "metadata": {
  "kernelspec": {
   "display_name": "my_env",
   "language": "python",
   "name": "python3"
  },
  "language_info": {
   "codemirror_mode": {
    "name": "ipython",
    "version": 3
   },
   "file_extension": ".py",
   "mimetype": "text/x-python",
   "name": "python",
   "nbconvert_exporter": "python",
   "pygments_lexer": "ipython3",
   "version": "3.8.0"
  }
 },
 "nbformat": 4,
 "nbformat_minor": 2
}
