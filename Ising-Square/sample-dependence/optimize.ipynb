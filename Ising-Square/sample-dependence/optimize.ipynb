{
 "cells": [
  {
   "cell_type": "code",
   "execution_count": 1,
   "metadata": {},
   "outputs": [
    {
     "name": "stderr",
     "output_type": "stream",
     "text": [
      "No GPU/TPU found, falling back to CPU. (Set TF_CPP_MIN_LOG_LEVEL=0 and rerun for more info.)\n"
     ]
    }
   ],
   "source": [
    "import os,sys\n",
    "import numpy as np\n",
    "import matplotlib.pyplot as plt\n",
    "sys.path.append('../../')\n",
    "from paths import *\n",
    "\n",
    "# this environmental variable must be set <before> the BID imports, to work with JAX double-precision\n",
    "os.environ[\"JAX_ENABLE_X64\"] = \"True\"\n",
    "from dadapy.hamming import BID, Hamming"
   ]
  },
  {
   "cell_type": "code",
   "execution_count": 6,
   "metadata": {},
   "outputs": [],
   "source": [
    "T_list = np.flip(np.array([2,2.3])) # temperature list\n",
    "L = 100  # system width or height (you can see size-differences putting here L=30)\n",
    "N = L**2 # total number of spins in a two-dimensional square lattice of length L \n",
    "Ns_list = np.arange(500,1000+1,100,dtype=int) # number of samples for each temperature"
   ]
  },
  {
   "cell_type": "code",
   "execution_count": null,
   "metadata": {},
   "outputs": [
    {
     "name": "stdout",
     "output_type": "stream",
     "text": [
      "T=2.30\n",
      "Ns=500\n",
      "starting optimization\n"
     ]
    }
   ],
   "source": [
    "for T_id,T in enumerate(T_list):\n",
    "  print(f'{T=:.2f}')\n",
    "  for Ns_id,Ns in enumerate(Ns_list):\n",
    "    print(f'{Ns=}')\n",
    "    # PARAMETER DEFINITIONS FOR OPTIMIZATION\n",
    "    seed = 1\n",
    "    alphamin = 0      # order of min_quantile, to remove poorly sampled parts of the histogram if necessary (see Supp. Inf. of paper)\n",
    "    alphamax = .2        # order of max_quantile, to define r* (named rmax in the code).\n",
    "    delta = 1e-3        # stochastic optimization step size\n",
    "    Nsteps = int(1e6)   # number of optimization steps\n",
    "    export_results = 1  # flag to export d0,d1,logKL,Pemp,Pmodel after optimization (default=1)\n",
    "    export_logKLs = 1   # flag to export the logKLs during optimization (default=0)\n",
    "    optfolder0 = f\"results/opt/L{L}/T{T:.2f}/Ns{Ns}/\"  # folder where optimization results are saved\n",
    "    histfolder = f'results/hist/L{L}/T{T:.2f}/Ns{Ns}/'\n",
    "    H = Hamming()\n",
    "    H.D_histogram(compute_flag=0,            # if 0 the histograms are loaded instead of computed\n",
    "                  save=False,                 # we compute the histograms once and save time in the future\n",
    "                  resultsfolder=histfolder,  # folder where the histograms are saved\n",
    "                  )\n",
    "    B = BID(\n",
    "        H=H,\n",
    "        alphamin=alphamin,\n",
    "        alphamax=alphamax,\n",
    "        seed=seed,\n",
    "        delta=delta,\n",
    "        Nsteps=Nsteps,\n",
    "        export_results=export_results,\n",
    "        export_logKLs=export_logKLs,\n",
    "        optfolder0=optfolder0,\n",
    "        L=L**2,\n",
    "    )\n",
    "\n",
    "    B.computeBID()  # results are defined as attributes of B. They are also exported if export_results=1 (default)"
   ]
  },
  {
   "cell_type": "code",
   "execution_count": null,
   "metadata": {},
   "outputs": [],
   "source": []
  },
  {
   "cell_type": "code",
   "execution_count": null,
   "metadata": {},
   "outputs": [],
   "source": []
  },
  {
   "cell_type": "code",
   "execution_count": null,
   "metadata": {},
   "outputs": [],
   "source": []
  },
  {
   "cell_type": "code",
   "execution_count": null,
   "metadata": {},
   "outputs": [],
   "source": []
  }
 ],
 "metadata": {
  "kernelspec": {
   "display_name": "my_env",
   "language": "python",
   "name": "python3"
  },
  "language_info": {
   "codemirror_mode": {
    "name": "ipython",
    "version": 3
   },
   "file_extension": ".py",
   "mimetype": "text/x-python",
   "name": "python",
   "nbconvert_exporter": "python",
   "pygments_lexer": "ipython3",
   "version": "3.8.0"
  }
 },
 "nbformat": 4,
 "nbformat_minor": 2
}
