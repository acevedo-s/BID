{
 "cells": [
  {
   "cell_type": "code",
   "execution_count": 2,
   "metadata": {},
   "outputs": [
    {
     "name": "stdout",
     "output_type": "stream",
     "text": [
      "model_name='resnet18'\n",
      "layer layer1.0.relu_1\n",
      "key='shuffled'\n"
     ]
    }
   ],
   "source": [
    "import sys,os\n",
    "sys.path.append('../')\n",
    "from R import load_features_layer\n",
    "from R.models import *\n",
    "from R.data import *\n",
    "from R.paths import *\n",
    "import pyFCI\n",
    "import numpy as np\n",
    "from time import time \n",
    "\n",
    "start = time()\n",
    "\n",
    "crop_size = 28\n",
    "class_id = 0\n",
    "layer_id = 0\n",
    "dbg=1\n",
    "\n",
    "model_id = 0\n",
    "model_name,W_model = model_list[model_id]\n",
    "print(f'{model_name=}')\n",
    "layer_names = layers_dict[model_name][:] \n",
    "class_list = list(class_dict.keys())[:]\n",
    "\n",
    "layer_name = layer_names[layer_id]\n",
    "print(f'layer {layer_name}')\n",
    "\n",
    "key = 'shuffled'\n",
    "print(f'{key=}')"
   ]
  },
  {
   "cell_type": "code",
   "execution_count": 7,
   "metadata": {},
   "outputs": [
    {
     "name": "stdout",
     "output_type": "stream",
     "text": [
      "/scratch/sacevedo/Imagenet2012/act/resnet18/shuffled/crop_size28/\n"
     ]
    }
   ],
   "source": [
    "### loading activations:\n",
    "i0 = 0\n",
    "i_max = 79\n",
    "chunk_size = 100\n",
    "flatten_activations = 1\n",
    "\n",
    "afolder = get_afolder(model_name,key,crop_size)\n",
    "print(afolder)"
   ]
  },
  {
   "cell_type": "code",
   "execution_count": 8,
   "metadata": {},
   "outputs": [
    {
     "ename": "",
     "evalue": "",
     "output_type": "error",
     "traceback": [
      "\u001b[1;31mThe Kernel crashed while executing code in the current cell or a previous cell. \n",
      "\u001b[1;31mPlease review the code in the cell(s) to identify a possible cause of the failure. \n",
      "\u001b[1;31mClick <a href='https://aka.ms/vscodeJupyterKernelCrash'>here</a> for more info. \n",
      "\u001b[1;31mView Jupyter <a href='command:jupyter.viewOutput'>log</a> for further details."
     ]
    }
   ],
   "source": [
    "a = load_features_layer(afolder,\n",
    "                      layer_name,\n",
    "                      chunk_size,\n",
    "                      i0=i0,\n",
    "                      i_max=i_max,\n",
    "                      flatten=flatten_activations,\n",
    "                      )\n",
    "Ns,N = a.shape\n",
    "EDfile = get_EDfilename('.',model_name,layer_name,key)"
   ]
  },
  {
   "cell_type": "code",
   "execution_count": null,
   "metadata": {},
   "outputs": [],
   "source": []
  },
  {
   "cell_type": "code",
   "execution_count": null,
   "metadata": {},
   "outputs": [],
   "source": [
    "np.savetxt(fname=EDfile,X=a.shape,fmt='%d')\n",
    "\n",
    "### BINARIZATION\n",
    "precision = 8\n",
    "a = np.round(a,precision)\n",
    "a = 2*np.sign(a).astype(int)-1\n",
    "\n",
    "### SEPARATING DATA IN BLOCKS TO HAVE THE SAME NUMBER OF DATA SAMPLES AS THE FIRST EXPERIMENT\n",
    "n_blocks = len(class_list) # there were 7 classes, so lets divide the dataset in 7 again\n",
    "block_size = Ns // n_blocks\n",
    "print(f'{block_size=}')\n",
    "print(f'{Ns=}')\n",
    "a = a[class_id*block_size:(class_id+1)*block_size]\n",
    "print(f'{a.shape=}')\n",
    "\n",
    "### FCI\n",
    "a = pyFCI.center_and_normalize(a)\n",
    "fci = pyFCI.FCI(a)\n",
    "d,x0,err = pyFCI.fit_FCI(fci)\n",
    "\n",
    "### EXPORTING\n",
    "resultsfolder = makefolder(base=f'results/FCI/shuffle/',\n",
    "                           create_folder=True,\n",
    "                           crop_size=crop_size,\n",
    "                           key=class_id,\n",
    "                           layer_id=layer_id,\n",
    "                           )\n",
    "np.savetxt(resultsfolder + 'FCI.txt',X=[d,x0,err])\n",
    "\n",
    "print(f'this took {(time()-start)/60:.1f} mins')"
   ]
  }
 ],
 "metadata": {
  "kernelspec": {
   "display_name": "my_env",
   "language": "python",
   "name": "python3"
  },
  "language_info": {
   "codemirror_mode": {
    "name": "ipython",
    "version": 3
   },
   "file_extension": ".py",
   "mimetype": "text/x-python",
   "name": "python",
   "nbconvert_exporter": "python",
   "pygments_lexer": "ipython3",
   "version": "3.8.0"
  }
 },
 "nbformat": 4,
 "nbformat_minor": 2
}
