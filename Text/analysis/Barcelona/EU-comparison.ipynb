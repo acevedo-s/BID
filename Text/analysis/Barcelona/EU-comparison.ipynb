{
 "cells": [
  {
   "cell_type": "code",
   "execution_count": 1,
   "metadata": {},
   "outputs": [
    {
     "name": "stderr",
     "output_type": "stream",
     "text": [
      "/leonardo/home/userexternal/sacevedo/venv/lib/python3.11/site-packages/tqdm/auto.py:21: TqdmWarning: IProgress not found. Please update jupyter and ipywidgets. See https://ipywidgets.readthedocs.io/en/stable/user_install.html\n",
      "  from .autonotebook import tqdm as notebook_tqdm\n"
     ]
    },
    {
     "name": "stdout",
     "output_type": "stream",
     "text": [
      "GPTNeoXForCausalLM(\n",
      "  (gpt_neox): GPTNeoXModel(\n",
      "    (embed_in): Embedding(50304, 2048)\n",
      "    (emb_dropout): Dropout(p=0.0, inplace=False)\n",
      "    (layers): ModuleList(\n",
      "      (0-15): 16 x GPTNeoXLayer(\n",
      "        (input_layernorm): LayerNorm((2048,), eps=1e-05, elementwise_affine=True)\n",
      "        (post_attention_layernorm): LayerNorm((2048,), eps=1e-05, elementwise_affine=True)\n",
      "        (post_attention_dropout): Dropout(p=0.0, inplace=False)\n",
      "        (post_mlp_dropout): Dropout(p=0.0, inplace=False)\n",
      "        (attention): GPTNeoXAttention(\n",
      "          (rotary_emb): GPTNeoXRotaryEmbedding()\n",
      "          (query_key_value): Linear(in_features=2048, out_features=6144, bias=True)\n",
      "          (dense): Linear(in_features=2048, out_features=2048, bias=True)\n",
      "          (attention_dropout): Dropout(p=0.0, inplace=False)\n",
      "        )\n",
      "        (mlp): GPTNeoXMLP(\n",
      "          (dense_h_to_4h): Linear(in_features=2048, out_features=8192, bias=True)\n",
      "          (dense_4h_to_h): Linear(in_features=8192, out_features=2048, bias=True)\n",
      "          (act): GELUActivation()\n",
      "        )\n",
      "      )\n",
      "    )\n",
      "    (final_layer_norm): LayerNorm((2048,), eps=1e-05, elementwise_affine=True)\n",
      "  )\n",
      "  (embed_out): Linear(in_features=2048, out_features=50304, bias=False)\n",
      ")\n"
     ]
    }
   ],
   "source": [
    "import matplotlib.pyplot as plt\n",
    "import numpy as np\n",
    "import functions\n",
    "import importlib\n",
    "importlib.reload(functions)\n",
    "from dadapy import MetricComparisons\n",
    "\n",
    "import os \n",
    "IIfolder = f'results/II/vocab/'\n",
    "os.makedirs(IIfolder,exist_ok=True)\n",
    "\n",
    "\n",
    "LLM = 'Pythia'\n",
    "# modelname = \"EleutherEI/pythia-410m-deduped\"\n",
    "modelname = \"EleutherAI/pythia-1b\"  # Example valid model\n",
    "\n",
    "# LLM = 'OPT'\n",
    "# modelname = \"facebook/opt-350m\"\n",
    "\n",
    "model,tokenizer = functions.get_model(LLM,\n",
    "                                  modelname,\n",
    "                                  load_tokenizer=False)\n",
    "print(model)\n",
    "E = model.config.hidden_size"
   ]
  },
  {
   "cell_type": "code",
   "execution_count": 2,
   "metadata": {},
   "outputs": [
    {
     "name": "stdout",
     "output_type": "stream",
     "text": [
      "Embedding matrix shape: (50304, 2048)\n"
     ]
    }
   ],
   "source": [
    "embedding_matrix = model.get_input_embeddings().weight.detach().numpy()\n",
    "print(\"Embedding matrix shape:\", embedding_matrix.shape)\n",
    "# E = embedding_matrix.T @ embedding_matrix\n",
    "# E.shape\n",
    "# del(embedding_matrix)"
   ]
  },
  {
   "cell_type": "code",
   "execution_count": 3,
   "metadata": {},
   "outputs": [
    {
     "name": "stdout",
     "output_type": "stream",
     "text": [
      "Unembedding matrix shape: (50304, 2048)\n"
     ]
    }
   ],
   "source": [
    "unembedding_matrix = model.get_output_embeddings().weight.detach().numpy()\n",
    "print(\"Unembedding matrix shape:\", unembedding_matrix.shape)\n",
    "# U = unembedding_matrix.T @ unembedding_matrix\n",
    "# del(unembedding_matrix)"
   ]
  },
  {
   "cell_type": "code",
   "execution_count": 4,
   "metadata": {},
   "outputs": [],
   "source": [
    "X = np.concatenate((embedding_matrix,\n",
    "                    unembedding_matrix),\n",
    "                  axis=1)\n",
    "del embedding_matrix\n",
    "del unembedding_matrix"
   ]
  },
  {
   "cell_type": "code",
   "execution_count": 5,
   "metadata": {},
   "outputs": [
    {
     "name": "stdout",
     "output_type": "stream",
     "text": [
      "T=10000\n",
      "II=(0.0102959, 0.041805020000000005)\n",
      "T=20000\n"
     ]
    },
    {
     "ename": "",
     "evalue": "",
     "output_type": "error",
     "traceback": [
      "\u001b[1;31mThe Kernel crashed while executing code in the current cell or a previous cell. \n",
      "\u001b[1;31mPlease review the code in the cell(s) to identify a possible cause of the failure. \n",
      "\u001b[1;31mClick <a href='https://aka.ms/vscodeJupyterKernelCrash'>here</a> for more info. \n",
      "\u001b[1;31mView Jupyter <a href='command:jupyter.viewOutput'>log</a> for further details."
     ]
    }
   ],
   "source": [
    "T_list = [30000]\n",
    "T_list = np.arange(1,10+1,dtype=int) * 10000\n",
    "for T_id,T in enumerate(T_list):\n",
    "  print(f'{T=}')\n",
    "\n",
    "  maxk = X[:T,:].shape[0] - 1\n",
    "  # if T >= 10000:\n",
    "  maxk //= 10\n",
    "  MC = MetricComparisons(X[:T,:], maxk=maxk)\n",
    "  II = MC.return_inf_imb_two_selected_coords(coords1=np.arange(0,E,dtype=int), \n",
    "                                            coords2=np.arange(E,2*E,dtype=int), \n",
    "                                            k=1)\n",
    "  print(f'{II=}')\n",
    "  np.savetxt(fname=f'{IIfolder}T{T}.txt',X=II,fmt='%.5f')"
   ]
  },
  {
   "cell_type": "code",
   "execution_count": 5,
   "metadata": {},
   "outputs": [],
   "source": [
    "T_list = np.array([10,100,1000])\n",
    "T_list = np.concatenate((T_list,\n",
    "                         np.arange(1,10+1,dtype=int) * 1000)\n",
    ")\n",
    "T_list = np.concatenate((T_list,\n",
    "                         np.arange(2,2+1,dtype=int) * 10000)\n",
    ")\n",
    "II = np.empty(shape=(len(T_list),\n",
    "                     2))\n",
    "for T_id,T in enumerate(T_list):\n",
    "  II[T_id,:] = np.loadtxt(f'{IIfolder}T{T}.txt')"
   ]
  },
  {
   "cell_type": "code",
   "execution_count": 6,
   "metadata": {},
   "outputs": [
    {
     "data": {
      "image/png": "[encoded data removed]",
      "text/plain": [
       "<Figure size 640x480 with 1 Axes>"
      ]
     },
     "metadata": {},
     "output_type": "display_data"
    }
   ],
   "source": [
    "plt.plot(T_list,II[:,0],'x-',label=f'II(EU)')\n",
    "plt.plot(T_list,II[:,1],'x-',label=f'II(UE)')\n",
    "plt.title(f'computed on the vocabulary')\n",
    "plt.ylabel(f'II')\n",
    "plt.xlabel(f'number of tokens T')\n",
    "plt.legend()\n",
    "plt.show()"
   ]
  },
  {
   "cell_type": "code",
   "execution_count": 12,
   "metadata": {},
   "outputs": [],
   "source": []
  },
  {
   "cell_type": "code",
   "execution_count": null,
   "metadata": {},
   "outputs": [],
   "source": []
  },
  {
   "cell_type": "code",
   "execution_count": 4,
   "metadata": {},
   "outputs": [],
   "source": [
    "Eeigenvalues,Eeigenvectors = np.linalg.eigh(E)\n",
    "Ueigenvalues,Ueigenvectors = np.linalg.eigh(U)"
   ]
  },
  {
   "cell_type": "code",
   "execution_count": 6,
   "metadata": {},
   "outputs": [
    {
     "data": {
      "image/png": "[encoded data removed]",
      "text/plain": [
       "<Figure size 640x480 with 1 Axes>"
      ]
     },
     "metadata": {},
     "output_type": "display_data"
    }
   ],
   "source": [
    "import matplotlib.pyplot as plt\n",
    "plt.plot(Eeigenvalues,'o')\n",
    "plt.plot(Ueigenvalues,'x')\n",
    "plt.yscale('log')"
   ]
  },
  {
   "cell_type": "code",
   "execution_count": 19,
   "metadata": {},
   "outputs": [
    {
     "name": "stdout",
     "output_type": "stream",
     "text": [
      "sim=-0.01234066\n",
      "sim=0.011344612\n",
      "sim=-0.016328791\n",
      "sim=0.057344034\n",
      "sim=-0.033279426\n",
      "sim=0.007034626\n",
      "sim=-0.00038717268\n",
      "sim=0.011977595\n",
      "sim=0.019512186\n",
      "sim=0.017920736\n",
      "sim=0.015525201\n",
      "sim=0.03392646\n",
      "sim=0.004622566\n",
      "sim=0.06010172\n",
      "sim=0.0030604796\n"
     ]
    }
   ],
   "source": [
    "for t in np.arange(-15,0,1):\n",
    "  sim = np.dot(Eeigenvectors[t],Ueigenvectors[t])\n",
    "  print(f'{sim=}')"
   ]
  },
  {
   "cell_type": "markdown",
   "metadata": {},
   "source": [
    "### Similarity measures:"
   ]
  },
  {
   "cell_type": "code",
   "execution_count": null,
   "metadata": {},
   "outputs": [],
   "source": []
  },
  {
   "cell_type": "code",
   "execution_count": 64,
   "metadata": {},
   "outputs": [
    {
     "name": "stdout",
     "output_type": "stream",
     "text": [
      "0.0028007884161793425 0.986774439470662\n",
      "0.10279050936524282 10.047540464534855\n"
     ]
    }
   ],
   "source": [
    "N = 10000\n",
    "spike = 1000\n",
    "\n",
    "X = np.random.normal(size=N)\n",
    "mu0 = np.mean(X)\n",
    "std0 = np.std(X)\n",
    "X = np.r_[X,spike]\n",
    "mu = np.mean(X)\n",
    "std = np.std(X)\n",
    "\n",
    "print(mu0,std0)\n",
    "print(mu,std)"
   ]
  },
  {
   "cell_type": "code",
   "execution_count": 31,
   "metadata": {},
   "outputs": [
    {
     "name": "stdout",
     "output_type": "stream",
     "text": [
      "-0.01815190753220946 1.0017383047110653\n",
      "-0.008151092422967162 1.4154654081568259\n"
     ]
    }
   ],
   "source": []
  },
  {
   "cell_type": "code",
   "execution_count": null,
   "metadata": {},
   "outputs": [],
   "source": []
  }
 ],
 "metadata": {
  "kernelspec": {
   "display_name": "venv",
   "language": "python",
   "name": "python3"
  },
  "language_info": {
   "codemirror_mode": {
    "name": "ipython",
    "version": 3
   },
   "file_extension": ".py",
   "mimetype": "text/x-python",
   "name": "python",
   "nbconvert_exporter": "python",
   "pygments_lexer": "ipython3",
   "version": "3.11.6"
  }
 },
 "nbformat": 4,
 "nbformat_minor": 2
}
