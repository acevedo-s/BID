{
 "cells": [
  {
   "cell_type": "code",
   "execution_count": 15,
   "metadata": {},
   "outputs": [
    {
     "name": "stdout",
     "output_type": "stream",
     "text": [
      "importing took 0.0 m\n",
      "a.shape=torch.Size([100, 120, 1024])\n",
      "a.shape=(100, 120, 1024)\n"
     ]
    }
   ],
   "source": [
    "import sys,os\n",
    "os.environ[\"JAX_PLATFORMS\"] = \"cpu\"\n",
    "from LLM.utils import *\n",
    "from LLM.LLM_paths import *\n",
    "from dadapy.hamming import Hamming\n",
    "import torch\n",
    "from time import time\n",
    "torch.set_printoptions(precision=32,sci_mode=False)\n",
    "sys.path.append('../../')\n",
    "from paths import *\n",
    "\n",
    "# device = torch.device('cuda' if torch.cuda.is_available() else 'cpu')\n",
    "# print(f'{device=}')\n",
    "\n",
    "layer_id = 0\n",
    "sub_length = 120\n",
    "\n",
    "Ntokens = sub_length\n",
    "N_batches = 1 #50\n",
    "max_length = 400\n",
    "corpus = 'Wikitext'\n",
    "LLM = 'Pythia'\n",
    "randomize = 0\n",
    "Lconcat = 150\n",
    "batch_randomize = 1\n",
    "sublength_cutoff = 300\n",
    "Nbits = 1\n",
    "batch_size = 100\n",
    "\n",
    "act_outputfolder0 = get_act_outputfolder0(max_length,corpus,LLM,randomize,Lconcat,batch_randomize)\n",
    "act_outputfolder = act_outputfolder0 + f'sub_length{sublength_cutoff:d}/'\n",
    "sigmas = load_activations(N_batches,\n",
    "                          act_outputfolder,\n",
    "                          layer_id,\n",
    "                          sub_length=sub_length, # 0 means every token\n",
    "                          ).numpy()\n",
    "Ns0 = sigmas.shape[0]\n",
    "sigmas = formatting_activations(sigmas,sub_length,Ns0,layer_normalize=0)\n",
    "sigmas = np.round(np.sign(sigmas),1)\n",
    "sigmas[np.where(np.isclose(sigmas,0.))] = -1 # just in case\n"
   ]
  },
  {
   "cell_type": "code",
   "execution_count": 16,
   "metadata": {},
   "outputs": [
    {
     "name": "stdout",
     "output_type": "stream",
     "text": [
      "layer_id=0 took 0.0 min\n"
     ]
    }
   ],
   "source": [
    "histfolder = makefolder(base='results/BID/dbg/',\n",
    "                        create_folder=True,\n",
    "                        LLM=LLM,\n",
    "                        corpus=corpus,\n",
    "                        layer_id=layer_id,\n",
    "                        sub_length=sub_length,\n",
    "                        Nbits=Nbits,\n",
    "                        batch_randomize=batch_randomize,\n",
    "                        Ns=N_batches*batch_size,\n",
    "                        )\n",
    "H = Hamming(coordinates=sigmas)\n",
    "start = time()\n",
    "H.compute_distances()\n",
    "H.D_histogram(compute_flag=1,\n",
    "              save=True,\n",
    "              resultsfolder=histfolder,\n",
    "              )\n",
    "print(f'{layer_id=:d} took {(time()-start)/60:.1f} min')\n",
    "\n",
    "# if remove_spins:\n",
    "#   for t in range(sublength_cutoff):\n",
    "#     sigmas_filename = get_sigmas_filename(sigmasfolder0,sublength_cutoff,layer_id,t)\n",
    "#     os.system(f'rm -f {sigmas_filename}')\n"
   ]
  },
  {
   "cell_type": "code",
   "execution_count": null,
   "metadata": {},
   "outputs": [],
   "source": []
  }
 ],
 "metadata": {
  "kernelspec": {
   "display_name": "venv",
   "language": "python",
   "name": "python3"
  },
  "language_info": {
   "codemirror_mode": {
    "name": "ipython",
    "version": 3
   },
   "file_extension": ".py",
   "mimetype": "text/x-python",
   "name": "python",
   "nbconvert_exporter": "python",
   "pygments_lexer": "ipython3",
   "version": "3.11.6"
  }
 },
 "nbformat": 4,
 "nbformat_minor": 2
}
