{
 "cells": [
  {
   "cell_type": "code",
   "execution_count": 7,
   "metadata": {},
   "outputs": [
    {
     "name": "stderr",
     "output_type": "stream",
     "text": [
      "/leonardo/home/userexternal/sacevedo/venv/lib/python3.11/site-packages/tqdm/auto.py:21: TqdmWarning: IProgress not found. Please update jupyter and ipywidgets. See https://ipywidgets.readthedocs.io/en/stable/user_install.html\n",
      "  from .autonotebook import tqdm as notebook_tqdm\n"
     ]
    }
   ],
   "source": [
    "import sys,os\n",
    "sys.path.append('../LLM/')\n",
    "sys.path.append('../../')\n",
    "from paths import *\n",
    "from LLM_paths import *\n",
    "from dadapy import data\n",
    "import numpy as np\n",
    "from time import time \n",
    "\n",
    "start = time()\n",
    "from utils import *\n",
    "\n",
    "\n",
    "layer_id = 24\n",
    "sub_length = 10\n",
    "N_batches = 2\n",
    "batch_randomize = 0\n",
    "batch_size = 100\n",
    "max_length = 400\n",
    "corpus = 'Wikitext'\n",
    "LLM = 'Pythia'\n",
    "randomize = 0\n",
    "Lconcat = 150 \n",
    "sublength_cutoff = 300\n",
    "resultsfolder = makefolder(base=f'results/',\n",
    "                          create_folder=True,\n",
    "                          #  precision=2,\n",
    "                          batch_randomize=batch_randomize,\n",
    "                          Ns=N_batches*batch_size,\n",
    "                          layer_id=layer_id,\n",
    "                          sub_length=sub_length,\n",
    "                          )\n",
    "\n",
    "act_outputfolder0 = get_act_outputfolder0(max_length,corpus,LLM,randomize,Lconcat,batch_randomize)"
   ]
  },
  {
   "cell_type": "code",
   "execution_count": 8,
   "metadata": {},
   "outputs": [
    {
     "name": "stdout",
     "output_type": "stream",
     "text": [
      "importing took 0.0 m\n",
      "a.shape=torch.Size([200, 10, 1024])\n",
      "WARNING: There were repetitions in the real-valued activations. applying \"np.unique\" reorders data\n",
      "a.shape=(198, 10, 1024)\n"
     ]
    }
   ],
   "source": [
    "act_outputfolder = act_outputfolder0 + f'sub_length{sublength_cutoff:d}/'\n",
    "X = load_activations(N_batches,\n",
    "                     act_outputfolder,\n",
    "                     layer_id,\n",
    "                     sub_length=sub_length,\n",
    "                     ).numpy()\n",
    "Ns0 = X.shape[0]\n",
    "X = formatting_activations(X,sub_length,Ns0,layer_normalize=0)\n",
    "X = np.round(np.sign(X))\n",
    "X[np.where(np.isclose(X,0))] = -1 # just in case\n"
   ]
  },
  {
   "cell_type": "code",
   "execution_count": 9,
   "metadata": {},
   "outputs": [
    {
     "name": "stdout",
     "output_type": "stream",
     "text": [
      "this took 0.2 mins\n"
     ]
    }
   ],
   "source": [
    "### GRIDE\n",
    "_data = data.Data(coordinates=X, maxk=X.shape[0]-1)\n",
    "range_max = X.shape[0] - 1\n",
    "ids_gride, ids_err_gride, rs_gride = _data.return_id_scaling_gride(range_max=range_max)\n",
    "\n",
    "### EXPORTING\n",
    "filename='gride.txt'\n",
    "np.savetxt(resultsfolder+filename,np.transpose([ids_gride,\n",
    "                                                ids_err_gride,\n",
    "                                                rs_gride]))\n",
    "\n",
    "print(f'this took {(time()-start)/60:.1f} mins')"
   ]
  }
 ],
 "metadata": {
  "kernelspec": {
   "display_name": "venv",
   "language": "python",
   "name": "python3"
  },
  "language_info": {
   "codemirror_mode": {
    "name": "ipython",
    "version": 3
   },
   "file_extension": ".py",
   "mimetype": "text/x-python",
   "name": "python",
   "nbconvert_exporter": "python",
   "pygments_lexer": "ipython3",
   "version": "3.11.6"
  }
 },
 "nbformat": 4,
 "nbformat_minor": 2
}
